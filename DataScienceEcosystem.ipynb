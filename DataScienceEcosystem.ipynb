{
 "cells": [
  {
   "cell_type": "markdown",
   "id": "9450df9e-604d-4889-b12b-b552b5807f89",
   "metadata": {
    "tags": []
   },
   "source": [
    "# Data Science Tools and Ecosystem"
   ]
  },
  {
   "cell_type": "markdown",
   "id": "b5f7f3eb-44b7-469b-8613-9d81e35f6695",
   "metadata": {},
   "source": [
    "The purpose of this notebook is to summarize the Data Science Tools and Ecosystem."
   ]
  },
  {
   "cell_type": "markdown",
   "id": "83414b7f-58a9-4006-9b21-4850d5f9b46c",
   "metadata": {
    "tags": []
   },
   "source": [
    "**Objectives**\n",
    "* List Common Languages for Data Science\n",
    "* List Common Libraries for Data Science\n",
    "* Demonstrate the Evaluation of Arithmetic Expressions in Python"
   ]
  },
  {
   "cell_type": "markdown",
   "id": "d8ffad01-6c21-468b-afd3-2816d647fa31",
   "metadata": {
    "tags": []
   },
   "source": [
    "   Common languages used for Data Science are:\n",
    "        \n",
    "    1. Python\n",
    "    2. Julia\n",
    "    3. R"
   ]
  },
  {
   "cell_type": "markdown",
   "id": "475fa838-6962-4775-84da-d4a2f606fe26",
   "metadata": {
    "tags": []
   },
   "source": [
    "Some libraries commonly used in Data Science are:"
   ]
  },
  {
   "cell_type": "markdown",
   "id": "436def40-f277-40fb-8483-7169fcc105d4",
   "metadata": {},
   "source": [
    "1. dplyr\n",
    "2. matplotlib\n",
    "3. ggplot"
   ]
  },
  {
   "cell_type": "markdown",
   "id": "15902e10-e489-4137-a006-b4f4d04f5684",
   "metadata": {
    "tags": []
   },
   "source": [
    "|Data Science Tools|\n",
    "|--|\n",
    "|Visual Studio Code|\n",
    "|RStudio|\n",
    "|JupyterLab|"
   ]
  },
  {
   "cell_type": "markdown",
   "id": "2562385d-4949-40ef-a79f-9fc4140e7d39",
   "metadata": {},
   "source": [
    "### Here are some examples of evaluating arithmetic expressions in Python"
   ]
  },
  {
   "cell_type": "code",
   "execution_count": 7,
   "id": "d12c796b-eb1a-4179-b152-7ccc96f63be9",
   "metadata": {
    "tags": []
   },
   "outputs": [
    {
     "data": {
      "text/plain": [
       "17"
      ]
     },
     "execution_count": 7,
     "metadata": {},
     "output_type": "execute_result"
    }
   ],
   "source": [
    "# What follows is an example arithmetic expression involving multiplying and then adding integers\n",
    "(3*4)+5"
   ]
  },
  {
   "cell_type": "code",
   "execution_count": 8,
   "id": "f607e5b1-4a21-4d5b-bd24-c5a53f066098",
   "metadata": {
    "tags": []
   },
   "outputs": [
    {
     "data": {
      "text/plain": [
       "3.3333333333333335"
      ]
     },
     "execution_count": 8,
     "metadata": {},
     "output_type": "execute_result"
    }
   ],
   "source": [
    "# The following expression divides 200 minutes by 60 to obtain the corresponding number of hours\n",
    "200/60"
   ]
  },
  {
   "cell_type": "markdown",
   "id": "b3b55f20-7dc3-41d4-b3e5-f3a2c08d4e40",
   "metadata": {},
   "source": [
    "## Author\n",
    "David Lambert"
   ]
  },
  {
   "cell_type": "code",
   "execution_count": null,
   "id": "6d7522ff-d4a4-4369-bad9-c40193cc79bd",
   "metadata": {},
   "outputs": [],
   "source": []
  }
 ],
 "metadata": {
  "kernelspec": {
   "display_name": "Python",
   "language": "python",
   "name": "conda-env-python-py"
  },
  "language_info": {
   "codemirror_mode": {
    "name": "ipython",
    "version": 3
   },
   "file_extension": ".py",
   "mimetype": "text/x-python",
   "name": "python",
   "nbconvert_exporter": "python",
   "pygments_lexer": "ipython3",
   "version": "3.7.12"
  }
 },
 "nbformat": 4,
 "nbformat_minor": 5
}
